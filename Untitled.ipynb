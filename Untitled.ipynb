{
 "cells": [
  {
   "cell_type": "code",
   "execution_count": 72,
   "id": "a4704786-a05a-45f5-9c95-ef6a14adb194",
   "metadata": {},
   "outputs": [],
   "source": [
    "# שאלת מחקר לדאשבורד: מה הסיכוי שתגובת המדינה תהיה אלימה (שנים, מדינה ו/או אזור גאוגרפי, כמות המפגינים?, אלימות מפגינים, קטגוריית משתתפים?)"
   ]
  },
  {
   "cell_type": "markdown",
   "id": "05cdda29-cc6c-4bce-bfb6-8314b3db22e9",
   "metadata": {},
   "source": [
    "## Imports & Data"
   ]
  },
  {
   "cell_type": "code",
   "execution_count": 1,
   "id": "9fa4e7d4-687a-417c-ab15-ea2d273d36ab",
   "metadata": {},
   "outputs": [],
   "source": [
    "import zipfile\n",
    "import pandas as pd\n",
    "import numpy as np\n",
    "import matplotlib.pyplot as plt\n",
    "import seaborn as sns\n",
    "\n",
    "from sklearn.preprocessing import MultiLabelBinarizer, OneHotEncoder, StandardScaler \n",
    "from sklearn.linear_model import LogisticRegression\n",
    "from sklearn.compose import ColumnTransformer\n",
    "from sklearn.model_selection import train_test_split"
   ]
  },
  {
   "cell_type": "code",
   "execution_count": 2,
   "id": "0718e930-5615-48d5-963e-83758e0fcf6c",
   "metadata": {},
   "outputs": [],
   "source": [
    "# unzipping the dataset\n",
    "with zipfile.ZipFile('data/dataverse_files.zip', 'r') as zip_ref:\n",
    "    zip_ref.extractall('data')"
   ]
  },
  {
   "cell_type": "code",
   "execution_count": 3,
   "id": "c47e0c40-0620-43b2-bd5b-14b854f86d00",
   "metadata": {},
   "outputs": [
    {
     "data": {
      "text/html": [
       "<div>\n",
       "<style scoped>\n",
       "    .dataframe tbody tr th:only-of-type {\n",
       "        vertical-align: middle;\n",
       "    }\n",
       "\n",
       "    .dataframe tbody tr th {\n",
       "        vertical-align: top;\n",
       "    }\n",
       "\n",
       "    .dataframe thead th {\n",
       "        text-align: right;\n",
       "    }\n",
       "</style>\n",
       "<table border=\"1\" class=\"dataframe\">\n",
       "  <thead>\n",
       "    <tr style=\"text-align: right;\">\n",
       "      <th></th>\n",
       "      <th>id</th>\n",
       "      <th>country</th>\n",
       "      <th>ccode</th>\n",
       "      <th>year</th>\n",
       "      <th>region</th>\n",
       "      <th>protest</th>\n",
       "      <th>protestnumber</th>\n",
       "      <th>startday</th>\n",
       "      <th>startmonth</th>\n",
       "      <th>startyear</th>\n",
       "      <th>...</th>\n",
       "      <th>protesterdemand4</th>\n",
       "      <th>stateresponse1</th>\n",
       "      <th>stateresponse2</th>\n",
       "      <th>stateresponse3</th>\n",
       "      <th>stateresponse4</th>\n",
       "      <th>stateresponse5</th>\n",
       "      <th>stateresponse6</th>\n",
       "      <th>stateresponse7</th>\n",
       "      <th>sources</th>\n",
       "      <th>notes</th>\n",
       "    </tr>\n",
       "  </thead>\n",
       "  <tbody>\n",
       "    <tr>\n",
       "      <th>0</th>\n",
       "      <td>201990001</td>\n",
       "      <td>Canada</td>\n",
       "      <td>20</td>\n",
       "      <td>1990</td>\n",
       "      <td>North America</td>\n",
       "      <td>1</td>\n",
       "      <td>1</td>\n",
       "      <td>15.0</td>\n",
       "      <td>1.0</td>\n",
       "      <td>1990.0</td>\n",
       "      <td>...</td>\n",
       "      <td>NaN</td>\n",
       "      <td>ignore</td>\n",
       "      <td>NaN</td>\n",
       "      <td>NaN</td>\n",
       "      <td>NaN</td>\n",
       "      <td>NaN</td>\n",
       "      <td>NaN</td>\n",
       "      <td>NaN</td>\n",
       "      <td>1. great canadian train journeys into history;...</td>\n",
       "      <td>canada s railway passenger system was finally ...</td>\n",
       "    </tr>\n",
       "    <tr>\n",
       "      <th>1</th>\n",
       "      <td>201990002</td>\n",
       "      <td>Canada</td>\n",
       "      <td>20</td>\n",
       "      <td>1990</td>\n",
       "      <td>North America</td>\n",
       "      <td>1</td>\n",
       "      <td>2</td>\n",
       "      <td>25.0</td>\n",
       "      <td>6.0</td>\n",
       "      <td>1990.0</td>\n",
       "      <td>...</td>\n",
       "      <td>NaN</td>\n",
       "      <td>ignore</td>\n",
       "      <td>NaN</td>\n",
       "      <td>NaN</td>\n",
       "      <td>NaN</td>\n",
       "      <td>NaN</td>\n",
       "      <td>NaN</td>\n",
       "      <td>NaN</td>\n",
       "      <td>1. autonomy s cry revived in quebec the new yo...</td>\n",
       "      <td>protestors were only identified as young peopl...</td>\n",
       "    </tr>\n",
       "  </tbody>\n",
       "</table>\n",
       "<p>2 rows × 31 columns</p>\n",
       "</div>"
      ],
      "text/plain": [
       "          id country  ccode  year         region  protest  protestnumber  \\\n",
       "0  201990001  Canada     20  1990  North America        1              1   \n",
       "1  201990002  Canada     20  1990  North America        1              2   \n",
       "\n",
       "   startday  startmonth  startyear  ...  protesterdemand4  stateresponse1  \\\n",
       "0      15.0         1.0     1990.0  ...               NaN          ignore   \n",
       "1      25.0         6.0     1990.0  ...               NaN          ignore   \n",
       "\n",
       "   stateresponse2  stateresponse3 stateresponse4 stateresponse5  \\\n",
       "0             NaN             NaN            NaN            NaN   \n",
       "1             NaN             NaN            NaN            NaN   \n",
       "\n",
       "  stateresponse6 stateresponse7  \\\n",
       "0            NaN            NaN   \n",
       "1            NaN            NaN   \n",
       "\n",
       "                                             sources  \\\n",
       "0  1. great canadian train journeys into history;...   \n",
       "1  1. autonomy s cry revived in quebec the new yo...   \n",
       "\n",
       "                                               notes  \n",
       "0  canada s railway passenger system was finally ...  \n",
       "1  protestors were only identified as young peopl...  \n",
       "\n",
       "[2 rows x 31 columns]"
      ]
     },
     "execution_count": 3,
     "metadata": {},
     "output_type": "execute_result"
    }
   ],
   "source": [
    "# import data\n",
    "protests_df = pd.read_csv('data/mmALL_073120_csv.csv')\n",
    "protests_df.head(2)"
   ]
  },
  {
   "cell_type": "markdown",
   "id": "cec17db6-85b0-4335-a1d1-65fd722a318b",
   "metadata": {},
   "source": [
    "## EDA"
   ]
  },
  {
   "cell_type": "code",
   "execution_count": 4,
   "id": "fcee3896-beea-4958-bfae-e90d80f150b8",
   "metadata": {},
   "outputs": [
    {
     "data": {
      "text/plain": [
       "(17145, 31)"
      ]
     },
     "execution_count": 4,
     "metadata": {},
     "output_type": "execute_result"
    }
   ],
   "source": [
    "protests_df.shape"
   ]
  },
  {
   "cell_type": "code",
   "execution_count": 5,
   "id": "a6003b0e-2f3e-443b-b3eb-173e1d6a5294",
   "metadata": {},
   "outputs": [
    {
     "name": "stdout",
     "output_type": "stream",
     "text": [
      "<class 'pandas.core.frame.DataFrame'>\n",
      "RangeIndex: 17145 entries, 0 to 17144\n",
      "Data columns (total 31 columns):\n",
      " #   Column                 Non-Null Count  Dtype  \n",
      "---  ------                 --------------  -----  \n",
      " 0   id                     17145 non-null  int64  \n",
      " 1   country                17145 non-null  object \n",
      " 2   ccode                  17145 non-null  int64  \n",
      " 3   year                   17145 non-null  int64  \n",
      " 4   region                 17145 non-null  object \n",
      " 5   protest                17145 non-null  int64  \n",
      " 6   protestnumber          17145 non-null  int64  \n",
      " 7   startday               15239 non-null  float64\n",
      " 8   startmonth             15239 non-null  float64\n",
      " 9   startyear              15239 non-null  float64\n",
      " 10  endday                 15239 non-null  float64\n",
      " 11  endmonth               15239 non-null  float64\n",
      " 12  endyear                15239 non-null  float64\n",
      " 13  protesterviolence      15758 non-null  float64\n",
      " 14  location               15218 non-null  object \n",
      " 15  participants_category  9887 non-null   object \n",
      " 16  participants           15746 non-null  object \n",
      " 17  protesteridentity      14684 non-null  object \n",
      " 18  protesterdemand1       15238 non-null  object \n",
      " 19  protesterdemand2       2977 non-null   object \n",
      " 20  protesterdemand3       383 non-null    object \n",
      " 21  protesterdemand4       831 non-null    object \n",
      " 22  stateresponse1         15208 non-null  object \n",
      " 23  stateresponse2         2888 non-null   object \n",
      " 24  stateresponse3         930 non-null    object \n",
      " 25  stateresponse4         244 non-null    object \n",
      " 26  stateresponse5         849 non-null    object \n",
      " 27  stateresponse6         16 non-null     object \n",
      " 28  stateresponse7         920 non-null    object \n",
      " 29  sources                15235 non-null  object \n",
      " 30  notes                  15193 non-null  object \n",
      "dtypes: float64(7), int64(5), object(19)\n",
      "memory usage: 4.1+ MB\n"
     ]
    }
   ],
   "source": [
    "protests_df.info()"
   ]
  },
  {
   "cell_type": "code",
   "execution_count": 45,
   "id": "68c4ddd5-969e-4cd2-9f84-4e4607affd66",
   "metadata": {},
   "outputs": [
    {
     "name": "stdout",
     "output_type": "stream",
     "text": [
      "[1990 1991 1992 1993 1994 1995 1996 1997 1998 1999 2000 2001 2002 2003\n",
      " 2004 2005 2006 2007 2008 2009 2010 2011 2012 2013 2014 2015 2016 2017\n",
      " 2018 2019 2020]\n",
      "Total: 31 years\n"
     ]
    }
   ],
   "source": [
    "#Years included in the project\n",
    "print(protests_df['year'].unique())\n",
    "#Total number of years\n",
    "print('Total:', len(protests_df['year'].unique()), 'years')"
   ]
  },
  {
   "cell_type": "code",
   "execution_count": 47,
   "id": "aeab0e3f-24f4-4e70-87da-1ccaafad0b6e",
   "metadata": {},
   "outputs": [
    {
     "data": {
      "text/plain": [
       "array(['North America', 'Central America', 'South America', 'Europe',\n",
       "       'Africa', 'MENA', 'Asia', 'Oceania'], dtype=object)"
      ]
     },
     "execution_count": 47,
     "metadata": {},
     "output_type": "execute_result"
    }
   ],
   "source": [
    "# Show all Regions\n",
    "protests_df['region'].unique()"
   ]
  },
  {
   "cell_type": "code",
   "execution_count": 46,
   "id": "200e0697-0781-40e1-86b9-6f1df9366c41",
   "metadata": {},
   "outputs": [],
   "source": [
    "#Finf all data under MENA region (Middle East & South Africa)\n",
    "#protests_df[protests_df['region'].str.contains(\"MENA\")]"
   ]
  },
  {
   "cell_type": "code",
   "execution_count": 48,
   "id": "3fda2aac-1148-4b9f-9309-baabc76d9439",
   "metadata": {},
   "outputs": [],
   "source": [
    "#protests_df['protesteridentity'].head(15)"
   ]
  },
  {
   "cell_type": "code",
   "execution_count": 10,
   "id": "1e2d59d7-ad11-443b-9bf2-3c71f271798d",
   "metadata": {},
   "outputs": [
    {
     "data": {
      "text/plain": [
       "166"
      ]
     },
     "execution_count": 10,
     "metadata": {},
     "output_type": "execute_result"
    }
   ],
   "source": [
    "#How many countries included in the dataset\n",
    "len(protests_df['country'].unique())"
   ]
  },
  {
   "cell_type": "code",
   "execution_count": 69,
   "id": "a54e1ff6-19e5-4967-8032-abc4b50649d0",
   "metadata": {},
   "outputs": [
    {
     "data": {
      "text/plain": [
       "array(['political behavior, process', 'land farm issue',\n",
       "       'police brutality', 'labor wage dispute',\n",
       "       'price increases, tax policy', nan, 'social restrictions',\n",
       "       'removal of politician'], dtype=object)"
      ]
     },
     "execution_count": 69,
     "metadata": {},
     "output_type": "execute_result"
    }
   ],
   "source": [
    "# Look at 'protesterdemand1' values\n",
    "protests_df['protesterdemand1'].unique()"
   ]
  },
  {
   "cell_type": "code",
   "execution_count": 64,
   "id": "772e8dee-150d-4c72-80e5-18e8a679ee8d",
   "metadata": {},
   "outputs": [
    {
     "data": {
      "text/plain": [
       "political behavior, process    9680\n",
       "labor wage dispute             1710\n",
       "price increases, tax policy    1087\n",
       "removal of politician          1011\n",
       "police brutality                825\n",
       "land farm issue                 467\n",
       "social restrictions             458\n",
       "Name: protesterdemand1, dtype: int64"
      ]
     },
     "execution_count": 64,
     "metadata": {},
     "output_type": "execute_result"
    }
   ],
   "source": [
    "# count 'protesterdemand1' values\n",
    "protests_df['protesterdemand1'].value_counts()"
   ]
  },
  {
   "cell_type": "code",
   "execution_count": 67,
   "id": "79e60ad5-0068-4992-accf-1e9b84061468",
   "metadata": {},
   "outputs": [
    {
     "data": {
      "text/plain": [
       "array(['ignore', 'accomodation', 'crowd dispersal', 'arrests',\n",
       "       'shootings', nan, 'beatings', 'killings'], dtype=object)"
      ]
     },
     "execution_count": 67,
     "metadata": {},
     "output_type": "execute_result"
    }
   ],
   "source": [
    "protests_df['stateresponse1'].unique()"
   ]
  },
  {
   "cell_type": "code",
   "execution_count": 68,
   "id": "987b2bfd-4e4b-4137-a8ca-05398154fedb",
   "metadata": {},
   "outputs": [
    {
     "data": {
      "text/plain": [
       "ignore             8239\n",
       "crowd dispersal    3935\n",
       "arrests            1088\n",
       "accomodation        956\n",
       "shootings           424\n",
       "beatings            303\n",
       "killings            263\n",
       "Name: stateresponse1, dtype: int64"
      ]
     },
     "execution_count": 68,
     "metadata": {},
     "output_type": "execute_result"
    }
   ],
   "source": [
    "protests_df['stateresponse1'].value_counts()"
   ]
  },
  {
   "cell_type": "code",
   "execution_count": 70,
   "id": "2c0004fe-d861-4902-a27f-e0790f099746",
   "metadata": {},
   "outputs": [
    {
     "data": {
      "text/plain": [
       "0.0    11723\n",
       "1.0     4035\n",
       "Name: protesterviolence, dtype: int64"
      ]
     },
     "execution_count": 70,
     "metadata": {},
     "output_type": "execute_result"
    }
   ],
   "source": [
    "protests_df['protesterviolence'].value_counts() "
   ]
  },
  {
   "cell_type": "code",
   "execution_count": 23,
   "id": "c72339e5-b414-4329-a7af-a4607b3f9f3b",
   "metadata": {},
   "outputs": [
    {
     "data": {
      "text/plain": [
       "8"
      ]
     },
     "execution_count": 23,
     "metadata": {},
     "output_type": "execute_result"
    }
   ],
   "source": [
    "len(protests_df['stateresponse5'].unique())"
   ]
  },
  {
   "cell_type": "code",
   "execution_count": 24,
   "id": "c07f2f1a-d911-4089-a300-0d0044a511d1",
   "metadata": {},
   "outputs": [],
   "source": [
    "protests_df = protests_df.replace('.', None)"
   ]
  },
  {
   "cell_type": "code",
   "execution_count": 25,
   "id": "56edd45c-05db-4245-9868-c07bffebeb53",
   "metadata": {},
   "outputs": [
    {
     "data": {
      "text/plain": [
       "7"
      ]
     },
     "execution_count": 25,
     "metadata": {},
     "output_type": "execute_result"
    }
   ],
   "source": [
    "len(protests_df['stateresponse5'].unique())"
   ]
  },
  {
   "cell_type": "code",
   "execution_count": 9,
   "id": "145ddc79-1d6d-4ea4-a57f-8e4202090442",
   "metadata": {},
   "outputs": [
    {
     "data": {
      "text/plain": [
       "array([nan, 'accomodation', 'arrests', 'killings', 'crowd dispersal',\n",
       "       'shootings', 'beatings'], dtype=object)"
      ]
     },
     "execution_count": 9,
     "metadata": {},
     "output_type": "execute_result"
    }
   ],
   "source": [
    "protests_df['stateresponse5'].unique()"
   ]
  },
  {
   "cell_type": "code",
   "execution_count": 12,
   "id": "852e8598-56b4-4d30-9859-d8256e6491b8",
   "metadata": {},
   "outputs": [
    {
     "data": {
      "text/plain": [
       "array([nan, 'accomodation', 'arrests', 'killings', 'beatings'],\n",
       "      dtype=object)"
      ]
     },
     "execution_count": 12,
     "metadata": {},
     "output_type": "execute_result"
    }
   ],
   "source": [
    "protests_df['stateresponse7'].unique()"
   ]
  },
  {
   "cell_type": "code",
   "execution_count": 69,
   "id": "4852bf17-ee94-437a-b9cd-c45992022ac1",
   "metadata": {},
   "outputs": [
    {
     "data": {
      "text/html": [
       "<div>\n",
       "<style scoped>\n",
       "    .dataframe tbody tr th:only-of-type {\n",
       "        vertical-align: middle;\n",
       "    }\n",
       "\n",
       "    .dataframe tbody tr th {\n",
       "        vertical-align: top;\n",
       "    }\n",
       "\n",
       "    .dataframe thead th {\n",
       "        text-align: right;\n",
       "    }\n",
       "</style>\n",
       "<table border=\"1\" class=\"dataframe\">\n",
       "  <thead>\n",
       "    <tr style=\"text-align: right;\">\n",
       "      <th></th>\n",
       "      <th>stateresponse1</th>\n",
       "      <th>stateresponse2</th>\n",
       "      <th>stateresponse3</th>\n",
       "      <th>stateresponse4</th>\n",
       "      <th>stateresponse5</th>\n",
       "      <th>stateresponse6</th>\n",
       "      <th>stateresponse7</th>\n",
       "    </tr>\n",
       "  </thead>\n",
       "  <tbody>\n",
       "    <tr>\n",
       "      <th>0</th>\n",
       "      <td>ignore</td>\n",
       "      <td>NaN</td>\n",
       "      <td>NaN</td>\n",
       "      <td>NaN</td>\n",
       "      <td>NaN</td>\n",
       "      <td>NaN</td>\n",
       "      <td>NaN</td>\n",
       "    </tr>\n",
       "    <tr>\n",
       "      <th>1</th>\n",
       "      <td>ignore</td>\n",
       "      <td>NaN</td>\n",
       "      <td>NaN</td>\n",
       "      <td>NaN</td>\n",
       "      <td>NaN</td>\n",
       "      <td>NaN</td>\n",
       "      <td>NaN</td>\n",
       "    </tr>\n",
       "    <tr>\n",
       "      <th>2</th>\n",
       "      <td>ignore</td>\n",
       "      <td>NaN</td>\n",
       "      <td>NaN</td>\n",
       "      <td>NaN</td>\n",
       "      <td>NaN</td>\n",
       "      <td>NaN</td>\n",
       "      <td>NaN</td>\n",
       "    </tr>\n",
       "    <tr>\n",
       "      <th>3</th>\n",
       "      <td>accomodation</td>\n",
       "      <td>NaN</td>\n",
       "      <td>NaN</td>\n",
       "      <td>NaN</td>\n",
       "      <td>NaN</td>\n",
       "      <td>NaN</td>\n",
       "      <td>NaN</td>\n",
       "    </tr>\n",
       "    <tr>\n",
       "      <th>4</th>\n",
       "      <td>crowd dispersal</td>\n",
       "      <td>arrests</td>\n",
       "      <td>accomodation</td>\n",
       "      <td>NaN</td>\n",
       "      <td>NaN</td>\n",
       "      <td>NaN</td>\n",
       "      <td>NaN</td>\n",
       "    </tr>\n",
       "    <tr>\n",
       "      <th>5</th>\n",
       "      <td>crowd dispersal</td>\n",
       "      <td>shootings</td>\n",
       "      <td>NaN</td>\n",
       "      <td>NaN</td>\n",
       "      <td>NaN</td>\n",
       "      <td>NaN</td>\n",
       "      <td>NaN</td>\n",
       "    </tr>\n",
       "    <tr>\n",
       "      <th>6</th>\n",
       "      <td>ignore</td>\n",
       "      <td>NaN</td>\n",
       "      <td>NaN</td>\n",
       "      <td>NaN</td>\n",
       "      <td>NaN</td>\n",
       "      <td>NaN</td>\n",
       "      <td>NaN</td>\n",
       "    </tr>\n",
       "    <tr>\n",
       "      <th>7</th>\n",
       "      <td>ignore</td>\n",
       "      <td>NaN</td>\n",
       "      <td>NaN</td>\n",
       "      <td>NaN</td>\n",
       "      <td>NaN</td>\n",
       "      <td>NaN</td>\n",
       "      <td>NaN</td>\n",
       "    </tr>\n",
       "    <tr>\n",
       "      <th>8</th>\n",
       "      <td>arrests</td>\n",
       "      <td>NaN</td>\n",
       "      <td>NaN</td>\n",
       "      <td>NaN</td>\n",
       "      <td>NaN</td>\n",
       "      <td>NaN</td>\n",
       "      <td>NaN</td>\n",
       "    </tr>\n",
       "    <tr>\n",
       "      <th>9</th>\n",
       "      <td>ignore</td>\n",
       "      <td>NaN</td>\n",
       "      <td>NaN</td>\n",
       "      <td>NaN</td>\n",
       "      <td>NaN</td>\n",
       "      <td>NaN</td>\n",
       "      <td>NaN</td>\n",
       "    </tr>\n",
       "    <tr>\n",
       "      <th>10</th>\n",
       "      <td>arrests</td>\n",
       "      <td>NaN</td>\n",
       "      <td>NaN</td>\n",
       "      <td>NaN</td>\n",
       "      <td>NaN</td>\n",
       "      <td>NaN</td>\n",
       "      <td>NaN</td>\n",
       "    </tr>\n",
       "    <tr>\n",
       "      <th>11</th>\n",
       "      <td>ignore</td>\n",
       "      <td>NaN</td>\n",
       "      <td>NaN</td>\n",
       "      <td>NaN</td>\n",
       "      <td>NaN</td>\n",
       "      <td>NaN</td>\n",
       "      <td>NaN</td>\n",
       "    </tr>\n",
       "    <tr>\n",
       "      <th>12</th>\n",
       "      <td>ignore</td>\n",
       "      <td>NaN</td>\n",
       "      <td>NaN</td>\n",
       "      <td>NaN</td>\n",
       "      <td>NaN</td>\n",
       "      <td>NaN</td>\n",
       "      <td>NaN</td>\n",
       "    </tr>\n",
       "    <tr>\n",
       "      <th>13</th>\n",
       "      <td>ignore</td>\n",
       "      <td>NaN</td>\n",
       "      <td>NaN</td>\n",
       "      <td>NaN</td>\n",
       "      <td>NaN</td>\n",
       "      <td>NaN</td>\n",
       "      <td>NaN</td>\n",
       "    </tr>\n",
       "    <tr>\n",
       "      <th>14</th>\n",
       "      <td>shootings</td>\n",
       "      <td>killings</td>\n",
       "      <td>NaN</td>\n",
       "      <td>NaN</td>\n",
       "      <td>NaN</td>\n",
       "      <td>NaN</td>\n",
       "      <td>NaN</td>\n",
       "    </tr>\n",
       "  </tbody>\n",
       "</table>\n",
       "</div>"
      ],
      "text/plain": [
       "     stateresponse1 stateresponse2 stateresponse3 stateresponse4  \\\n",
       "0            ignore            NaN            NaN            NaN   \n",
       "1            ignore            NaN            NaN            NaN   \n",
       "2            ignore            NaN            NaN            NaN   \n",
       "3      accomodation            NaN            NaN            NaN   \n",
       "4   crowd dispersal        arrests   accomodation            NaN   \n",
       "5   crowd dispersal      shootings            NaN            NaN   \n",
       "6            ignore            NaN            NaN            NaN   \n",
       "7            ignore            NaN            NaN            NaN   \n",
       "8           arrests            NaN            NaN            NaN   \n",
       "9            ignore            NaN            NaN            NaN   \n",
       "10          arrests            NaN            NaN            NaN   \n",
       "11           ignore            NaN            NaN            NaN   \n",
       "12           ignore            NaN            NaN            NaN   \n",
       "13           ignore            NaN            NaN            NaN   \n",
       "14        shootings       killings            NaN            NaN   \n",
       "\n",
       "   stateresponse5 stateresponse6 stateresponse7  \n",
       "0             NaN            NaN            NaN  \n",
       "1             NaN            NaN            NaN  \n",
       "2             NaN            NaN            NaN  \n",
       "3             NaN            NaN            NaN  \n",
       "4             NaN            NaN            NaN  \n",
       "5             NaN            NaN            NaN  \n",
       "6             NaN            NaN            NaN  \n",
       "7             NaN            NaN            NaN  \n",
       "8             NaN            NaN            NaN  \n",
       "9             NaN            NaN            NaN  \n",
       "10            NaN            NaN            NaN  \n",
       "11            NaN            NaN            NaN  \n",
       "12            NaN            NaN            NaN  \n",
       "13            NaN            NaN            NaN  \n",
       "14            NaN            NaN            NaN  "
      ]
     },
     "execution_count": 69,
     "metadata": {},
     "output_type": "execute_result"
    }
   ],
   "source": [
    "resp_column_img = protests_df.iloc[:, 22:29].head(15)\n",
    "resp_column_img"
   ]
  },
  {
   "cell_type": "markdown",
   "id": "a81a41ed-7ec9-4f16-8753-e78ca73c2cb5",
   "metadata": {},
   "source": [
    "# Plotting"
   ]
  },
  {
   "cell_type": "code",
   "execution_count": null,
   "id": "539f0a92-7984-46a1-8d38-6028aaf6d9cb",
   "metadata": {},
   "outputs": [],
   "source": []
  },
  {
   "cell_type": "code",
   "execution_count": 70,
   "id": "1b5d8146-67c9-48e6-bd6a-fff3bcd2a0f5",
   "metadata": {},
   "outputs": [
    {
     "data": {
      "text/html": [
       "<div>\n",
       "<style scoped>\n",
       "    .dataframe tbody tr th:only-of-type {\n",
       "        vertical-align: middle;\n",
       "    }\n",
       "\n",
       "    .dataframe tbody tr th {\n",
       "        vertical-align: top;\n",
       "    }\n",
       "\n",
       "    .dataframe thead th {\n",
       "        text-align: right;\n",
       "    }\n",
       "</style>\n",
       "<table border=\"1\" class=\"dataframe\">\n",
       "  <thead>\n",
       "    <tr style=\"text-align: right;\">\n",
       "      <th></th>\n",
       "      <th>stateresponse1</th>\n",
       "      <th>stateresponse2</th>\n",
       "      <th>stateresponse3</th>\n",
       "      <th>stateresponse4</th>\n",
       "      <th>stateresponse5</th>\n",
       "      <th>stateresponse6</th>\n",
       "      <th>stateresponse7</th>\n",
       "    </tr>\n",
       "  </thead>\n",
       "  <tbody>\n",
       "    <tr>\n",
       "      <th>accomodation</th>\n",
       "      <td>956</td>\n",
       "      <td>389</td>\n",
       "      <td>100</td>\n",
       "      <td>65.0</td>\n",
       "      <td>16.0</td>\n",
       "      <td>9.0</td>\n",
       "      <td>3.0</td>\n",
       "    </tr>\n",
       "    <tr>\n",
       "      <th>arrests</th>\n",
       "      <td>1088</td>\n",
       "      <td>764</td>\n",
       "      <td>231</td>\n",
       "      <td>52.0</td>\n",
       "      <td>14.0</td>\n",
       "      <td>1.0</td>\n",
       "      <td>2.0</td>\n",
       "    </tr>\n",
       "    <tr>\n",
       "      <th>beatings</th>\n",
       "      <td>303</td>\n",
       "      <td>391</td>\n",
       "      <td>85</td>\n",
       "      <td>19.0</td>\n",
       "      <td>4.0</td>\n",
       "      <td>1.0</td>\n",
       "      <td>1.0</td>\n",
       "    </tr>\n",
       "    <tr>\n",
       "      <th>crowd dispersal</th>\n",
       "      <td>3935</td>\n",
       "      <td>585</td>\n",
       "      <td>223</td>\n",
       "      <td>45.0</td>\n",
       "      <td>9.0</td>\n",
       "      <td>3.0</td>\n",
       "      <td>NaN</td>\n",
       "    </tr>\n",
       "    <tr>\n",
       "      <th>ignore</th>\n",
       "      <td>8239</td>\n",
       "      <td>36</td>\n",
       "      <td>11</td>\n",
       "      <td>NaN</td>\n",
       "      <td>NaN</td>\n",
       "      <td>NaN</td>\n",
       "      <td>NaN</td>\n",
       "    </tr>\n",
       "    <tr>\n",
       "      <th>killings</th>\n",
       "      <td>263</td>\n",
       "      <td>315</td>\n",
       "      <td>199</td>\n",
       "      <td>43.0</td>\n",
       "      <td>7.0</td>\n",
       "      <td>2.0</td>\n",
       "      <td>1.0</td>\n",
       "    </tr>\n",
       "    <tr>\n",
       "      <th>shootings</th>\n",
       "      <td>424</td>\n",
       "      <td>408</td>\n",
       "      <td>81</td>\n",
       "      <td>20.0</td>\n",
       "      <td>3.0</td>\n",
       "      <td>NaN</td>\n",
       "      <td>NaN</td>\n",
       "    </tr>\n",
       "  </tbody>\n",
       "</table>\n",
       "</div>"
      ],
      "text/plain": [
       "                 stateresponse1  stateresponse2  stateresponse3  \\\n",
       "accomodation                956             389             100   \n",
       "arrests                    1088             764             231   \n",
       "beatings                    303             391              85   \n",
       "crowd dispersal            3935             585             223   \n",
       "ignore                     8239              36              11   \n",
       "killings                    263             315             199   \n",
       "shootings                   424             408              81   \n",
       "\n",
       "                 stateresponse4  stateresponse5  stateresponse6  \\\n",
       "accomodation               65.0            16.0             9.0   \n",
       "arrests                    52.0            14.0             1.0   \n",
       "beatings                   19.0             4.0             1.0   \n",
       "crowd dispersal            45.0             9.0             3.0   \n",
       "ignore                      NaN             NaN             NaN   \n",
       "killings                   43.0             7.0             2.0   \n",
       "shootings                  20.0             3.0             NaN   \n",
       "\n",
       "                 stateresponse7  \n",
       "accomodation                3.0  \n",
       "arrests                     2.0  \n",
       "beatings                    1.0  \n",
       "crowd dispersal             NaN  \n",
       "ignore                      NaN  \n",
       "killings                    1.0  \n",
       "shootings                   NaN  "
      ]
     },
     "execution_count": 70,
     "metadata": {},
     "output_type": "execute_result"
    }
   ],
   "source": [
    "all_responses_basic = pd.DataFrame({'stateresponse1': protests_df['stateresponse1'].value_counts(),\n",
    "                   'stateresponse2': protests_df['stateresponse2'].value_counts(),\n",
    "                   'stateresponse3': protests_df['stateresponse3'].value_counts(),\n",
    "                   'stateresponse4': protests_df['stateresponse4'].value_counts(),\n",
    "                   'stateresponse5': protests_df['stateresponse5'].value_counts(),\n",
    "                   'stateresponse6': protests_df['stateresponse6'].value_counts(),\n",
    "                   'stateresponse7': protests_df['stateresponse7'].value_counts()\n",
    "                             \n",
    "})\n",
    "all_responses_basic"
   ]
  },
  {
   "cell_type": "code",
   "execution_count": 71,
   "id": "01f4d6a6-1c1b-439c-a28f-96b1af60f0de",
   "metadata": {},
   "outputs": [
    {
     "data": {
      "text/html": [
       "<div>\n",
       "<style scoped>\n",
       "    .dataframe tbody tr th:only-of-type {\n",
       "        vertical-align: middle;\n",
       "    }\n",
       "\n",
       "    .dataframe tbody tr th {\n",
       "        vertical-align: top;\n",
       "    }\n",
       "\n",
       "    .dataframe thead th {\n",
       "        text-align: right;\n",
       "    }\n",
       "</style>\n",
       "<table border=\"1\" class=\"dataframe\">\n",
       "  <thead>\n",
       "    <tr style=\"text-align: right;\">\n",
       "      <th></th>\n",
       "      <th>accomodation</th>\n",
       "      <th>arrests</th>\n",
       "      <th>beatings</th>\n",
       "      <th>crowd dispersal</th>\n",
       "      <th>ignore</th>\n",
       "      <th>killings</th>\n",
       "      <th>shootings</th>\n",
       "      <th>response_number</th>\n",
       "    </tr>\n",
       "  </thead>\n",
       "  <tbody>\n",
       "    <tr>\n",
       "      <th>stateresponse1</th>\n",
       "      <td>956.0</td>\n",
       "      <td>1088.0</td>\n",
       "      <td>303.0</td>\n",
       "      <td>3935.0</td>\n",
       "      <td>8239.0</td>\n",
       "      <td>263.0</td>\n",
       "      <td>424.0</td>\n",
       "      <td>stateresponse1</td>\n",
       "    </tr>\n",
       "    <tr>\n",
       "      <th>stateresponse2</th>\n",
       "      <td>389.0</td>\n",
       "      <td>764.0</td>\n",
       "      <td>391.0</td>\n",
       "      <td>585.0</td>\n",
       "      <td>36.0</td>\n",
       "      <td>315.0</td>\n",
       "      <td>408.0</td>\n",
       "      <td>stateresponse2</td>\n",
       "    </tr>\n",
       "    <tr>\n",
       "      <th>stateresponse3</th>\n",
       "      <td>100.0</td>\n",
       "      <td>231.0</td>\n",
       "      <td>85.0</td>\n",
       "      <td>223.0</td>\n",
       "      <td>11.0</td>\n",
       "      <td>199.0</td>\n",
       "      <td>81.0</td>\n",
       "      <td>stateresponse3</td>\n",
       "    </tr>\n",
       "    <tr>\n",
       "      <th>stateresponse4</th>\n",
       "      <td>65.0</td>\n",
       "      <td>52.0</td>\n",
       "      <td>19.0</td>\n",
       "      <td>45.0</td>\n",
       "      <td>NaN</td>\n",
       "      <td>43.0</td>\n",
       "      <td>20.0</td>\n",
       "      <td>stateresponse4</td>\n",
       "    </tr>\n",
       "    <tr>\n",
       "      <th>stateresponse5</th>\n",
       "      <td>16.0</td>\n",
       "      <td>14.0</td>\n",
       "      <td>4.0</td>\n",
       "      <td>9.0</td>\n",
       "      <td>NaN</td>\n",
       "      <td>7.0</td>\n",
       "      <td>3.0</td>\n",
       "      <td>stateresponse5</td>\n",
       "    </tr>\n",
       "    <tr>\n",
       "      <th>stateresponse6</th>\n",
       "      <td>9.0</td>\n",
       "      <td>1.0</td>\n",
       "      <td>1.0</td>\n",
       "      <td>3.0</td>\n",
       "      <td>NaN</td>\n",
       "      <td>2.0</td>\n",
       "      <td>NaN</td>\n",
       "      <td>stateresponse6</td>\n",
       "    </tr>\n",
       "    <tr>\n",
       "      <th>stateresponse7</th>\n",
       "      <td>3.0</td>\n",
       "      <td>2.0</td>\n",
       "      <td>1.0</td>\n",
       "      <td>NaN</td>\n",
       "      <td>NaN</td>\n",
       "      <td>1.0</td>\n",
       "      <td>NaN</td>\n",
       "      <td>stateresponse7</td>\n",
       "    </tr>\n",
       "  </tbody>\n",
       "</table>\n",
       "</div>"
      ],
      "text/plain": [
       "                accomodation  arrests  beatings  crowd dispersal  ignore  \\\n",
       "stateresponse1         956.0   1088.0     303.0           3935.0  8239.0   \n",
       "stateresponse2         389.0    764.0     391.0            585.0    36.0   \n",
       "stateresponse3         100.0    231.0      85.0            223.0    11.0   \n",
       "stateresponse4          65.0     52.0      19.0             45.0     NaN   \n",
       "stateresponse5          16.0     14.0       4.0              9.0     NaN   \n",
       "stateresponse6           9.0      1.0       1.0              3.0     NaN   \n",
       "stateresponse7           3.0      2.0       1.0              NaN     NaN   \n",
       "\n",
       "                killings  shootings response_number  \n",
       "stateresponse1     263.0      424.0  stateresponse1  \n",
       "stateresponse2     315.0      408.0  stateresponse2  \n",
       "stateresponse3     199.0       81.0  stateresponse3  \n",
       "stateresponse4      43.0       20.0  stateresponse4  \n",
       "stateresponse5       7.0        3.0  stateresponse5  \n",
       "stateresponse6       2.0        NaN  stateresponse6  \n",
       "stateresponse7       1.0        NaN  stateresponse7  "
      ]
     },
     "execution_count": 71,
     "metadata": {},
     "output_type": "execute_result"
    }
   ],
   "source": [
    "all_responses = all_responses_basic.transpose()\n",
    "all_responses['response_number'] = all_responses.index\n",
    "all_responses"
   ]
  },
  {
   "cell_type": "code",
   "execution_count": 72,
   "id": "e6282646-7909-4685-9884-de7a776d42ec",
   "metadata": {},
   "outputs": [],
   "source": [
    "all_responses.rename(columns={'accomodation': 'accommodation'}, inplace=True)"
   ]
  },
  {
   "cell_type": "code",
   "execution_count": 73,
   "id": "91e7134d-04a8-4c34-9668-29f9f3d776b0",
   "metadata": {},
   "outputs": [],
   "source": [
    "colors = ['#ebdc78', '#8be04e', '#00b7c7', '#1a53ff', '#4421af', '#7c1158', '#b30000']  #(0.35, 0.35, 0.35) ?\n",
    "sns.set(style=\"white\", context=\"notebook\") # set style (affects all plots)"
   ]
  },
  {
   "cell_type": "code",
   "execution_count": 74,
   "id": "4c59e2e1-5066-444b-934c-2983beece9ca",
   "metadata": {},
   "outputs": [],
   "source": [
    "response_number = all_responses['response_number']\n",
    "accommodation = all_responses['accommodation']\n",
    "arrests = all_responses['arrests']\n",
    "beatings = all_responses['beatings']\n",
    "crowd_dispersal = all_responses['crowd dispersal']\n",
    "ignore = all_responses['ignore']\n",
    "killings = all_responses['killings']\n",
    "shootings = all_responses['shootings']"
   ]
  },
  {
   "cell_type": "code",
   "execution_count": 75,
   "id": "70d3ae75-f570-4381-95b9-285a7427c893",
   "metadata": {},
   "outputs": [
    {
     "name": "stderr",
     "output_type": "stream",
     "text": [
      "C:\\Users\\Marva\\AppData\\Local\\Temp/ipykernel_32444/4291982992.py:32: MatplotlibDeprecationWarning: savefig() got unexpected keyword argument \"figsize\" which is no longer supported as of 3.3 and will become an error two minor releases later\n",
      "  fig.savefig('stacked-bar-chart-2018.png', figsize=(7,7), dpi=250, bbox_inches='tight')\n"
     ]
    },
    {
     "data": {
      "image/png": "[encoded data removed]",
      "text/plain": [
       "<Figure size 1440x432 with 1 Axes>"
      ]
     },
     "metadata": {},
     "output_type": "display_data"
    }
   ],
   "source": [
    "fig, ax = plt.subplots(figsize=(20,6))\n",
    "height = 0.8\n",
    "left = 0\n",
    "ax.barh(y=response_number, width=accommodation, height=height, left=left, label=accommodation.name,\n",
    "color=colors[0])\n",
    "left += accommodation\n",
    "ax.barh(y=response_number, width=arrests, height=height, left=left, label=arrests.name,\n",
    "color=colors[1])\n",
    "left += arrests\n",
    "ax.barh(y=response_number, width=beatings, height=height, left=left, label=beatings.name,\n",
    "color=colors[2])\n",
    "left += beatings\n",
    "ax.barh(y=response_number, width=crowd_dispersal, height=height, left=left, label=crowd_dispersal.name,\n",
    "color=colors[3])\n",
    "left += crowd_dispersal\n",
    "ax.barh(y=response_number, width=ignore, height=height, left=left, label=ignore.name,\n",
    "color=colors[4])\n",
    "left += ignore\n",
    "ax.barh(y=response_number, width=killings, height=height, left=left, label=killings.name,\n",
    "color=colors[5]) \n",
    "left += killings\n",
    "ax.barh(y=response_number, width=shootings, height=height, left=left, label=shootings.name,\n",
    "color=colors[6]) \n",
    "left += shootings\n",
    "ax.set_xlim(0, 16000)\n",
    "plt.xlabel('Total Number of Responses', fontsize=16)\n",
    "plt.ylabel('Responses By Order', fontsize=16)\n",
    "plt.title('Number and Types of Responses by Order', fontsize=18)\n",
    "\n",
    "ax.invert_yaxis()\n",
    "ax.legend(loc='lower right', fontsize=16)\n",
    "fig.savefig('stacked-bar-chart-2018.png', figsize=(7,7), dpi=250, bbox_inches='tight')"
   ]
  },
  {
   "cell_type": "code",
   "execution_count": 77,
   "id": "4ac859ad-e49f-4cb2-82b9-2961d0cf7981",
   "metadata": {},
   "outputs": [],
   "source": [
    "try_again = all_responses_basic.transpose()\n",
    "try_again['response_number'] = all_responses.index\n",
    "try_again = try_again[::-1]"
   ]
  },
  {
   "cell_type": "code",
   "execution_count": 78,
   "id": "f1358a21-c35b-4973-a5d7-5e7245a8cfb0",
   "metadata": {},
   "outputs": [],
   "source": [
    "response_number = try_again['response_number']\n",
    "accomodation = try_again['accomodation']\n",
    "arrests = try_again['arrests']\n",
    "beatings = try_again['beatings']\n",
    "crowd_dispersal = try_again['crowd dispersal']\n",
    "ignore = try_again['ignore']\n",
    "killings = try_again['killings']\n",
    "shootings = try_again['shootings']"
   ]
  },
  {
   "cell_type": "code",
   "execution_count": 79,
   "id": "f91aa007-45b3-4228-b220-d97ba1a23d8e",
   "metadata": {},
   "outputs": [
    {
     "ename": "TypeError",
     "evalue": "'Index' object is not callable",
     "output_type": "error",
     "traceback": [
      "\u001b[1;31m---------------------------------------------------------------------------\u001b[0m",
      "\u001b[1;31mTypeError\u001b[0m                                 Traceback (most recent call last)",
      "\u001b[1;32m~\\AppData\\Local\\Temp/ipykernel_32444/3923442472.py\u001b[0m in \u001b[0;36m<module>\u001b[1;34m\u001b[0m\n\u001b[0;32m     15\u001b[0m \u001b[1;32mfor\u001b[0m \u001b[0mc\u001b[0m \u001b[1;32min\u001b[0m \u001b[0max\u001b[0m\u001b[1;33m.\u001b[0m\u001b[0mcontainers\u001b[0m\u001b[1;33m:\u001b[0m\u001b[1;33m\u001b[0m\u001b[1;33m\u001b[0m\u001b[0m\n\u001b[0;32m     16\u001b[0m \u001b[1;33m\u001b[0m\u001b[0m\n\u001b[1;32m---> 17\u001b[1;33m     \u001b[0mlabels\u001b[0m \u001b[1;33m=\u001b[0m \u001b[0mall_responses\u001b[0m\u001b[1;33m.\u001b[0m\u001b[0mindex\u001b[0m\u001b[1;33m(\u001b[0m\u001b[1;33m)\u001b[0m\u001b[1;33m\u001b[0m\u001b[1;33m\u001b[0m\u001b[0m\n\u001b[0m\u001b[0;32m     18\u001b[0m \u001b[1;33m\u001b[0m\u001b[0m\n\u001b[0;32m     19\u001b[0m     \u001b[1;31m# remove the labels parameter if it's not needed for customized labels\u001b[0m\u001b[1;33m\u001b[0m\u001b[1;33m\u001b[0m\u001b[0m\n",
      "\u001b[1;31mTypeError\u001b[0m: 'Index' object is not callable"
     ]
    },
    {
     "data": {
      "image/png": "[encoded data removed]",
      "text/plain": [
       "<Figure size 720x576 with 1 Axes>"
      ]
     },
     "metadata": {},
     "output_type": "display_data"
    }
   ],
   "source": [
    "overview = all_responses.melt()\n",
    "overview = pd.crosstab(overview['variable'], overview['value'])\n",
    "\n",
    "ax = overview.plot(kind='bar', stacked=True, rot=45, ylabel='Total Types of Responses', xlabel = 'Number of Response', figsize=(10, 8))\n",
    "\n",
    "ax.legend(bbox_to_anchor=(1.2, 1))\n",
    "\n",
    "bar_width = 0.5\n",
    "bar_l = np.arange(0, 7)\n",
    "tick_pos = [i + (bar_width / 2) for i in bar_l]\n",
    "\n",
    "plt.xticks(tick_pos, [\"1st response\", \"2nd response\", \"3rd response\", '4th response', '5th response', '6th response', '7th response'], fontsize=10)\n",
    "\n",
    "\n",
    "for c in ax.containers:\n",
    "\n",
    "    labels = all_responses.index()\n",
    "    \n",
    "    # remove the labels parameter if it's not needed for customized labels\n",
    "    ax.bar_label(c, labels=labels, label_type='center')\n",
    "\n",
    "\n",
    "plt.tight_layout()\n",
    "plt.show()"
   ]
  },
  {
   "cell_type": "markdown",
   "id": "712c737a-c8b1-4b41-a724-73fe4918acf6",
   "metadata": {},
   "source": [
    "##### overview = all_responses.melt()\n",
    "overview = pd.crosstab(overview['variable'], overview['value'])\n",
    "\n",
    "ax = overview.plot(kind='bar', stacked=True, rot=45, ylabel='count')\n",
    "ax.legend(bbox_to_anchor=(1.2, 1))\n",
    "plt.tight_layout()\n",
    "plt.show()"
   ]
  },
  {
   "cell_type": "code",
   "execution_count": null,
   "id": "0648279a-1065-46eb-b9dc-884ff3f27b3f",
   "metadata": {},
   "outputs": [],
   "source": [
    "protests_df['protesterviolence'].unique()"
   ]
  },
  {
   "cell_type": "code",
   "execution_count": null,
   "id": "b328df46-e4c2-4679-b30e-c1e34e2c19da",
   "metadata": {},
   "outputs": [],
   "source": [
    "protests_df['protesterviolence'].value_counts()"
   ]
  },
  {
   "cell_type": "code",
   "execution_count": null,
   "id": "e3b2319a-3e49-474f-ac8b-0b72ef136e5c",
   "metadata": {},
   "outputs": [],
   "source": [
    "protests_df['stateresponse1'].unique()"
   ]
  },
  {
   "cell_type": "code",
   "execution_count": null,
   "id": "9ccc459c-e280-45bb-a19a-00aec7d64be9",
   "metadata": {},
   "outputs": [],
   "source": [
    "protests_df['stateresponse1'].value_counts()"
   ]
  },
  {
   "cell_type": "code",
   "execution_count": null,
   "id": "b6c77a92-514a-4b0d-8a05-679bfd033d8d",
   "metadata": {},
   "outputs": [],
   "source": [
    "protests_df['stateresponse2'].value_counts()"
   ]
  },
  {
   "cell_type": "code",
   "execution_count": 80,
   "id": "7701172c-8ec6-412d-9ab2-5b138734576a",
   "metadata": {},
   "outputs": [
    {
     "data": {
      "text/plain": [
       "arrests            231\n",
       "crowd dispersal    223\n",
       "killings           199\n",
       "accomodation       100\n",
       "beatings            85\n",
       "shootings           81\n",
       "ignore              11\n",
       "Name: stateresponse3, dtype: int64"
      ]
     },
     "execution_count": 80,
     "metadata": {},
     "output_type": "execute_result"
    }
   ],
   "source": [
    "protests_df['stateresponse3'].value_counts()"
   ]
  },
  {
   "cell_type": "code",
   "execution_count": 81,
   "id": "2c4450ef-9511-49ba-a0f0-7d88e0fc849c",
   "metadata": {},
   "outputs": [],
   "source": [
    "# drop nulls from stateresponse1\n",
    "protests_df.dropna(subset=['stateresponse1'], how='all', inplace=True)"
   ]
  },
  {
   "cell_type": "code",
   "execution_count": 82,
   "id": "cf2c2424-ffbb-456c-adaa-e73b4628f03e",
   "metadata": {},
   "outputs": [
    {
     "name": "stdout",
     "output_type": "stream",
     "text": [
      "<class 'pandas.core.frame.DataFrame'>\n",
      "Int64Index: 15208 entries, 0 to 17141\n",
      "Data columns (total 31 columns):\n",
      " #   Column                 Non-Null Count  Dtype  \n",
      "---  ------                 --------------  -----  \n",
      " 0   id                     15208 non-null  int64  \n",
      " 1   country                15208 non-null  object \n",
      " 2   ccode                  15208 non-null  int64  \n",
      " 3   year                   15208 non-null  int64  \n",
      " 4   region                 15208 non-null  object \n",
      " 5   protest                15208 non-null  int64  \n",
      " 6   protestnumber          15208 non-null  int64  \n",
      " 7   startday               15208 non-null  float64\n",
      " 8   startmonth             15208 non-null  float64\n",
      " 9   startyear              15208 non-null  float64\n",
      " 10  endday                 15208 non-null  float64\n",
      " 11  endmonth               15208 non-null  float64\n",
      " 12  endyear                15208 non-null  float64\n",
      " 13  protesterviolence      15208 non-null  float64\n",
      " 14  location               15186 non-null  object \n",
      " 15  participants_category  9877 non-null   object \n",
      " 16  participants           15196 non-null  object \n",
      " 17  protesteridentity      14654 non-null  object \n",
      " 18  protesterdemand1       15208 non-null  object \n",
      " 19  protesterdemand2       2966 non-null   object \n",
      " 20  protesterdemand3       382 non-null    object \n",
      " 21  protesterdemand4       35 non-null     object \n",
      " 22  stateresponse1         15208 non-null  object \n",
      " 23  stateresponse2         2886 non-null   object \n",
      " 24  stateresponse3         930 non-null    object \n",
      " 25  stateresponse4         244 non-null    object \n",
      " 26  stateresponse5         53 non-null     object \n",
      " 27  stateresponse6         16 non-null     object \n",
      " 28  stateresponse7         7 non-null      object \n",
      " 29  sources                15204 non-null  object \n",
      " 30  notes                  15162 non-null  object \n",
      "dtypes: float64(7), int64(5), object(19)\n",
      "memory usage: 3.7+ MB\n"
     ]
    }
   ],
   "source": [
    "protests_df.info()"
   ]
  },
  {
   "cell_type": "code",
   "execution_count": 83,
   "id": "bc0ad276-20c3-4a36-a5b9-f2001681bef3",
   "metadata": {
    "tags": []
   },
   "outputs": [
    {
     "data": {
      "text/plain": [
       "array(['1000s', '1000', '500', '100s', '950', '200', '110000', '10000s',\n",
       "       '10000', '6000', '3000', '126000', '45000', '2000', '400', '10s',\n",
       "       '250', '170000', '300', '12000', '1500', '50+', '250-300',\n",
       "       'hundreds', 'more than 200', 'dozens', 'a group', 'about 300',\n",
       "       'more than 500', 'busloads', '50', 'widespread', 'thousands',\n",
       "       '100', '60', '100+', '80', '2500', '150', '100s-1000s', '8000',\n",
       "       '100s-1000', '300-1000s', '4000', '15000', '600', '1500+',\n",
       "       'about 2000', 'several hundred', 'tens of thousands', '270', '350',\n",
       "       '5000', '20000', '100s-10000s', '100000', '30000', '70000',\n",
       "       '1100-10000s', '80000', '200000', '100000s', '750000', '90000',\n",
       "       '150000', '400000', '1000000', '1000+', '>50', '>50000',\n",
       "       'more than 1500 detained', '11000', '230 families',\n",
       "       'several dozen', '180', '50s', '35000', nan, 'Tens of thousands',\n",
       "       '40000', '130', '60000', '23000+', '14000', '900', '1200', '1700',\n",
       "       '700', '800', '5000+', '50000', 'more than 1000', '280', '3000+',\n",
       "       '2400', '90', '15000+', 'hundreds ', 'hundreds of thousands',\n",
       "       '164 arrested', '1000s-10000', '7000', '25000', '240000', '1100',\n",
       "       '4500', '75000', '250000', '500000', '300000', '120000', '13800',\n",
       "       '600000', '800000', '900000', '700000', '350000', '450000',\n",
       "       '5,000,000', '53000', '280000', '>5000', '72000', '270000',\n",
       "       '1,000,000s', '1300000', '22000', '135000', '9000', '290000',\n",
       "       '44000', '36000', '168000', 'Thousands', 'several dozen arrests',\n",
       "       'several thousand', 'more than 400 arrested',\n",
       "       'Hundreds of thousands', '20 arrested', '>100', '300 arrested',\n",
       "       'Several thousand protesters', 'Demonstrators',\n",
       "       'Large demonstrations', 'Huge protests',\n",
       "       'Hundreds of student protesters', 'Several thousand',\n",
       "       'Mass protests', 'HUNDREDS OF thousands of Venezuelans',\n",
       "       '\"Rocked by protests\"', 'More than seven million people',\n",
       "       'Millions', 'Hundreds of youths',\n",
       "       'A general strike that paralysed Venezuela',\n",
       "       'Protesters on whom the government security forces used water cannons, rubber bullets and batons',\n",
       "       'A few hundred people', 'About a hundred protesters',\n",
       "       'Hundreds of Venezuelans', '16 killed', '75', '1400', '4800',\n",
       "       '2450', '6500', '181', '32000', '18500', 'a few dozen',\n",
       "       'a few thousand', '24000', '260000', '13000', '1150', '55', '450',\n",
       "       '920', '16000', '3500', '>15000', 'more than 50000', '55000',\n",
       "       '1300', '3800', '17000', '>1000000', '>2000000', '>1000',\n",
       "       '25 protesters injured', 'hundreds of thousands to 1.4 million',\n",
       "       'scores', 'more than a dozen schools', 'About 2,000 ',\n",
       "       'dozens arrested ', '70', '609', 'over 100 arrested', '200+',\n",
       "       '118000', '8500', '2850', '28000', '500,000', '2200',\n",
       "       'more than 25000', '130000', '100,000s', '1,000,000', '1250',\n",
       "       '17200', '>200', '>3100', '>2900', '>5100', '2050', '<100',\n",
       "       '10000+', '> 50', 'Thousands ', '107', '100s+', '>150', '>2500',\n",
       "       '< 1500', '> 100', '> 10000', '> 70', '> 700', '> 200', '30000+',\n",
       "       '>2000', '12500', '600+', '> 3000', '>3000', '2000-3000', '>370',\n",
       "       '13000+', '2500+', '130+', '80+', '500+ ', '407791', '23000',\n",
       "       '12000+', 'very low thousands', '150+', '22500', '250+', '2200+',\n",
       "       '6000+', '52000', '60+', '>300', '>400', '20700+', '2000+',\n",
       "       '10,000', '430000+', '400+', '1600+', 'several hundreds', '4000+',\n",
       "       '120', '160', '100000+', '500 people', 'About 500 people',\n",
       "       'About 30,000', '>250-300', '>1,000', 'Nearly 700,000', '<5000',\n",
       "       'About 100', '>15,000', '>10000', '355', '500+', '5500', '800+',\n",
       "       '520+', '64+', '70+', '350+', '141', '240', '300+', '27000',\n",
       "       '700+', '50000+', '7500', '25000+', '20000+', '5600+', 'About 80',\n",
       "       'between 35,000 and 50,000', 'Hundreds', '325000', '300-400',\n",
       "       '34000', 'About 3,000', '>30000', '>150000', '<10000', '<20000',\n",
       "       '>280', '>350', '>60900', '>100000', '>300000', '>500000',\n",
       "       '2000000', '>80', '>35000', '>250', '>1100', '>2600', '200,000',\n",
       "       '>20000', '>130', '750', '<6700', '>400000', '570000', '200-300',\n",
       "       '>18000', '<375000', '1200000', '465000', '150-300', '<400000',\n",
       "       '825000', '1100000', '4000-12000', '560000', '61', '340000',\n",
       "       '125000', '17000+', '1365+', '20000-60000', '140000', '223000',\n",
       "       '119500', 'hundreds  ', '66000', '29000', '84000', '69000',\n",
       "       '58000', '51000', '615000', '187000', '3900', '1000000s',\n",
       "       '<1000000', '>200000', '18000', '<200000', '1500-2000', '500000+',\n",
       "       'at least 160000', '525000', 'several 1000s', '> 30000',\n",
       "       '> 150000', '> 100000', '< 100000 ', '> 70000', '> 80000',\n",
       "       '> 300000', '> 500000', '> 200000', 'hundreds of thousands ',\n",
       "       '> 400000', '>7000', '140', '6600', '484000', '340', '14500',\n",
       "       '17500', '25100+', '260-500', '3200+', '> 5000', '65000', 'Dozens',\n",
       "       '> 35000', '650000', '> 1000', '> 500', 'nearly 10000', '> 300',\n",
       "       'several dozens', '> 1500', '1000s-23000', '24000+',\n",
       "       'a few hundreds', '> 20000', '90000+', '5750', '> 15000',\n",
       "       'millions', '> 1000000', '> 450', '100000s-3000000', '298',\n",
       "       '1500000', '>1200', '>340', '>70000', '28 LGBT groups', '> 9000',\n",
       "       '> 42000', '> 40000', 'At least 10,000', '70000+', '4700+',\n",
       "       '300000+', '100,000', '56000+', '9000+', '7000+', '> 50000',\n",
       "       '> 1300', '> 2000', '>8000', '>4000', '>6000', '>37000',\n",
       "       '20000-40000', '40000-80000', '>80000', '<300', '840',\n",
       "       'teachers and pupils', 'few thousand', '185', '>170', '1000S',\n",
       "       '>56', '>40000', '>1500', '>9000', '>16000', '7000-15000', '<1000',\n",
       "       '<50', '<15000', '250000-350000', '1 million',\n",
       "       'between 100000 & 300000', 'several hundred thousands',\n",
       "       '6000 to 8000', '3000 to 5000', '> 800', '> 3500', '> 50 ',\n",
       "       'a few thousand ', '> 25000', 'couple thousands', '> 23000',\n",
       "       '> 60000', '> 400', '170', '<500', '300-350', '>213',\n",
       "       '50000-70000', '41000', '58000+', 'at least 500', 'about 100',\n",
       "       'between 7500-25000', 'about 8000', '200 arrested', '> 50 < 100 ',\n",
       "       '6000-8000', '600-700', '350-400', '>500', '60-70', '7000-9000',\n",
       "       '150-200', '3500-5000', '35000 - 70000', '193', '2600', '106',\n",
       "       '1500-10000', '50 arrested', '90+', '613', '128', '335', '50-100',\n",
       "       '50_', '3000-4000', '500000-700000', '<2000', '80-100',\n",
       "       '8000-9000', '400-500', '3765', 'A few hundred', '311', '>3,000 ',\n",
       "       '5000-10000', '>351', '700 - >1000', '51+', 'About 500',\n",
       "       'Over 3,000', 'Over 100', '>115', 'About 1000', 'scores (>50)',\n",
       "       'a few hundred', '86', '<200', 'several thousand ', '71', '63',\n",
       "       '>700', '>459', '>60', '>600', '2000 to 3000', '2,000 to 3,000',\n",
       "       '>50-1000', '100s-500', '157', '1300+', '65', '132+', '2700',\n",
       "       '50000-120000', '500-1000', '30000-40000', '200000-400000',\n",
       "       '50000-80000', '3000-10000', '2400+', '1300-2000', '89', '567+',\n",
       "       'Up to 100,000', '73', '200-2000+', '400-600+', '200-400',\n",
       "       '200-3000', '100-1500+', '125', '207', '500-700', '260', '195',\n",
       "       '>800', '>224', '<900', '50-99', '14059', '3500+', '500-2000',\n",
       "       '6000-7000', '600-3000', '>3500', '100000-200000', '200000+',\n",
       "       '300-500', '800-900', '1800+', '500-1200', '3000-5000',\n",
       "       '3000-6000', '388', '50-60', '>70', '1000s-40000', 'around 50',\n",
       "       'dozens arrested', 'up to two million',\n",
       "       'increasingly large gatherings', '100s-10000', 'about 150',\n",
       "       'about 3000', 'over a million', '1600', '40', '100S', 'few dozen',\n",
       "       '100 wounded', '29', '>50-100s', '2000-200000', '1000-10000',\n",
       "       '5000-50000', '1000s-10000s', '650', 'more than 2000',\n",
       "       '12 arrested', '10000s ', '3600', '15,000', '51000+', '>55', '79',\n",
       "       '680', '4360', '370', '850', '4000 arrested', 'a few hundred ',\n",
       "       '5600', '82000', '68000', '63000', '27500', '28500', '>1600',\n",
       "       '180000', '510000', 'About 4,000 people',\n",
       "       'The organisers said more than 3,000 people; police said the turnout was 830 at its peak',\n",
       "       'About 6,000 people', 'Hundreds of people', 'Hundreds of workers',\n",
       "       'Estimated number of protesters at 10,000', 'Thousands of miners',\n",
       "       'Over 2,000 construction workers', 'Nearly 70 parents',\n",
       "       'More than 1,000 teachers', 'Several hundred demonstrators',\n",
       "       'More than 300 people', 'About 50 activists',\n",
       "       'Hundreds of villagers', '2,000 to 4,000 people',\n",
       "       'About 100 taxis', 'Thousands of people',\n",
       "       'The Civil Human Rights Front said 110,000 people; The Hong Kong police said about 20,000',\n",
       "       'More than 10,000 protesters', '13,000 people',\n",
       "       'March organiser and legal-sector lawmaker Dennis Kwok, said more than 2,000 people joined the protest. Police put the turnout at 1,700.',\n",
       "       'About 5,000 people', '30 arrested', '22800', '56000', '138000',\n",
       "       '128000', 'About 7,000', '3000000', '320000', '124000', '>32200',\n",
       "       'more than 100', 'More than 30,000', '330', '137000', '54',\n",
       "       '61000', '465', '10600', '19000', '625000', '161', '138', '5300',\n",
       "       '634', '102000', '5800', '4200', '149', '540', '57000', '21000',\n",
       "       '33000', '140+', 'Some 5,000 members', 'More than 10,000 citizens',\n",
       "       'Almost 350,000', '<70000', '10300', 'Between 11000 and 45000',\n",
       "       '75000-170000', '65,000 people', 'About 2,000 people',\n",
       "       'Tens of thousands of people', 'Crowds',\n",
       "       'Hundreds of college students',\n",
       "       'Widespread protests throughout the valley',\n",
       "       'Volunteers and a line formed of people participating to cook beef and share it with strangers in the streets',\n",
       "       'Thousands of Indians, including Bollywood actors',\n",
       "       'Civilians; a crowd', 'Protests across India',\n",
       "       'Hundreds of residents', '84', 'At least 100',\n",
       "       'As many as 25,000 protesters', 'About 200', '>3,000', '>5,000',\n",
       "       '102', '155', '66', '210', '76', '74', '115', '112', '93000', '52',\n",
       "       '7000000', '20000s', '300s', '>440', 'Several hundred',\n",
       "       'Nearly 500', '>222', 'Over 200 local protesters', 'About 4000',\n",
       "       '3300', '241', '87', '51', 'More than 100 people',\n",
       "       'About 500 demonstrators', '2300', '3700',\n",
       "       'Some 100 demonstrators', 'About 50 protesters',\n",
       "       'Around 300 local people', 'Up to 300 people',\n",
       "       'Mass demonstrations',\n",
       "       'In northern Chiang Mai province, 200 kamnans and village heads; in Phetchaburi, about 400 kamnans and village heads',\n",
       "       'Around 200 protesters', 'More than 200 campaigners',\n",
       "       '97 public organisations',\n",
       "       'About 100 activists, including 39 suspects who were summoned, and 66 more suspects who would be summoned to face charges later',\n",
       "       'About 200 people', '50 people', 'ABOUT 130 members',\n",
       "       '20000-30000', 'About 100 villagers', 'More than 4,000 people',\n",
       "       '234', '1900', '64', '25000-200000', '50000-100000',\n",
       "       'About 300 people', 'Some 500 people', 'Almost 200',\n",
       "       '1,800 participants', '57 former estate workers',\n",
       "       'Some 250 residents', 'Nearly 500 supporters',\n",
       "       'Some 100 residents', 'Some 50 members', 'SOME 3,000 people',\n",
       "       'About 100 people', 'Estimated to be 15,500',\n",
       "       'About 300 protesters', 'About 50', 'About 300', '88', '500-600',\n",
       "       'About 400', 'About 120', '3000-4500', 'About 12,000 protesters',\n",
       "       'At least 10,000 people', 'Around 5,000', '1800',\n",
       "       'Estimated 6,000 drivers', 'About 150 protesters',\n",
       "       'More than 500,000 people', 'More than 1,000', 'About 10000',\n",
       "       '559'], dtype=object)"
      ]
     },
     "execution_count": 83,
     "metadata": {},
     "output_type": "execute_result"
    }
   ],
   "source": [
    "protests_df['participants'].unique()"
   ]
  },
  {
   "cell_type": "markdown",
   "id": "f5d4ed03-c0cc-4170-9806-181fc6dbb712",
   "metadata": {},
   "source": [
    "### Data Cleaning & Preprocessing"
   ]
  },
  {
   "cell_type": "markdown",
   "id": "6ccd4238-27bd-44da-ac73-40e4f83da83f",
   "metadata": {},
   "source": [
    "#### Make one column with all state responses"
   ]
  },
  {
   "cell_type": "code",
   "execution_count": 84,
   "id": "0533f12c-60e4-4645-8fa7-913652658489",
   "metadata": {},
   "outputs": [
    {
     "data": {
      "text/plain": [
       "array([nan, 'accomodation', 'arrests', 'killings', 'beatings'],\n",
       "      dtype=object)"
      ]
     },
     "execution_count": 84,
     "metadata": {},
     "output_type": "execute_result"
    }
   ],
   "source": [
    "protests_df['stateresponse7'].unique()"
   ]
  },
  {
   "cell_type": "code",
   "execution_count": 85,
   "id": "42329904-da40-4e1f-b666-b5b84111618e",
   "metadata": {},
   "outputs": [],
   "source": [
    "# drop all of the dots\n",
    "protests_df[protests_df.columns[22:29]] = protests_df[protests_df.columns[22:29]].replace('.', '')"
   ]
  },
  {
   "cell_type": "code",
   "execution_count": 86,
   "id": "5588bb5d-9629-4757-988e-8c8771fe97c0",
   "metadata": {},
   "outputs": [],
   "source": [
    "# drop all os the commas\n",
    "protests_df[protests_df.columns[22:29]] = protests_df[protests_df.columns[22:29]].replace(',', '')"
   ]
  },
  {
   "cell_type": "code",
   "execution_count": 87,
   "id": "d33f1291-529c-4b6c-b4fa-f5acb93a3cba",
   "metadata": {},
   "outputs": [
    {
     "data": {
      "text/plain": [
       "arrests            231\n",
       "crowd dispersal    223\n",
       "killings           199\n",
       "accomodation       100\n",
       "beatings            85\n",
       "shootings           81\n",
       "ignore              11\n",
       "Name: stateresponse3, dtype: int64"
      ]
     },
     "execution_count": 87,
     "metadata": {},
     "output_type": "execute_result"
    }
   ],
   "source": [
    "protests_df['stateresponse3'].value_counts()"
   ]
  },
  {
   "cell_type": "code",
   "execution_count": 88,
   "id": "afd36665-2c03-440c-a071-b13539554f2f",
   "metadata": {},
   "outputs": [
    {
     "data": {
      "text/plain": [
       "0                                     ignore\n",
       "1                                     ignore\n",
       "2                                     ignore\n",
       "3                               accomodation\n",
       "4     crowd dispersal, arrests, accomodation\n",
       "5                 crowd dispersal, shootings\n",
       "6                                     ignore\n",
       "7                                     ignore\n",
       "8                                    arrests\n",
       "9                                     ignore\n",
       "10                                   arrests\n",
       "11                                    ignore\n",
       "12                                    ignore\n",
       "13                                    ignore\n",
       "14                       shootings, killings\n",
       "15                                    ignore\n",
       "16                                    ignore\n",
       "17                                    ignore\n",
       "20                                    ignore\n",
       "21                              accomodation\n",
       "22                                    ignore\n",
       "23                  crowd dispersal, arrests\n",
       "26                                    ignore\n",
       "28                                   arrests\n",
       "29                                    ignore\n",
       "30                           crowd dispersal\n",
       "31                                    ignore\n",
       "32                           crowd dispersal\n",
       "33                                    ignore\n",
       "34                                   arrests\n",
       "dtype: object"
      ]
     },
     "execution_count": 88,
     "metadata": {},
     "output_type": "execute_result"
    }
   ],
   "source": [
    "protests_df[protests_df.columns[22:29]].apply(\n",
    "    lambda x: ', '.join(x.dropna().astype(str)),\n",
    "    axis=1\n",
    ")[:30]"
   ]
  },
  {
   "cell_type": "code",
   "execution_count": 89,
   "id": "b2c03807-f6a6-4ab6-9224-c888e4be4173",
   "metadata": {
    "tags": []
   },
   "outputs": [
    {
     "data": {
      "text/html": [
       "<div>\n",
       "<style scoped>\n",
       "    .dataframe tbody tr th:only-of-type {\n",
       "        vertical-align: middle;\n",
       "    }\n",
       "\n",
       "    .dataframe tbody tr th {\n",
       "        vertical-align: top;\n",
       "    }\n",
       "\n",
       "    .dataframe thead th {\n",
       "        text-align: right;\n",
       "    }\n",
       "</style>\n",
       "<table border=\"1\" class=\"dataframe\">\n",
       "  <thead>\n",
       "    <tr style=\"text-align: right;\">\n",
       "      <th></th>\n",
       "      <th>id</th>\n",
       "      <th>country</th>\n",
       "      <th>ccode</th>\n",
       "      <th>year</th>\n",
       "      <th>region</th>\n",
       "      <th>protest</th>\n",
       "      <th>protestnumber</th>\n",
       "      <th>startday</th>\n",
       "      <th>startmonth</th>\n",
       "      <th>startyear</th>\n",
       "      <th>...</th>\n",
       "      <th>stateresponse1</th>\n",
       "      <th>stateresponse2</th>\n",
       "      <th>stateresponse3</th>\n",
       "      <th>stateresponse4</th>\n",
       "      <th>stateresponse5</th>\n",
       "      <th>stateresponse6</th>\n",
       "      <th>stateresponse7</th>\n",
       "      <th>sources</th>\n",
       "      <th>notes</th>\n",
       "      <th>all_responses</th>\n",
       "    </tr>\n",
       "  </thead>\n",
       "  <tbody>\n",
       "    <tr>\n",
       "      <th>0</th>\n",
       "      <td>201990001</td>\n",
       "      <td>Canada</td>\n",
       "      <td>20</td>\n",
       "      <td>1990</td>\n",
       "      <td>North America</td>\n",
       "      <td>1</td>\n",
       "      <td>1</td>\n",
       "      <td>15.0</td>\n",
       "      <td>1.0</td>\n",
       "      <td>1990.0</td>\n",
       "      <td>...</td>\n",
       "      <td>ignore</td>\n",
       "      <td>NaN</td>\n",
       "      <td>NaN</td>\n",
       "      <td>NaN</td>\n",
       "      <td>NaN</td>\n",
       "      <td>NaN</td>\n",
       "      <td>NaN</td>\n",
       "      <td>1. great canadian train journeys into history;...</td>\n",
       "      <td>canada s railway passenger system was finally ...</td>\n",
       "      <td>ignore</td>\n",
       "    </tr>\n",
       "    <tr>\n",
       "      <th>1</th>\n",
       "      <td>201990002</td>\n",
       "      <td>Canada</td>\n",
       "      <td>20</td>\n",
       "      <td>1990</td>\n",
       "      <td>North America</td>\n",
       "      <td>1</td>\n",
       "      <td>2</td>\n",
       "      <td>25.0</td>\n",
       "      <td>6.0</td>\n",
       "      <td>1990.0</td>\n",
       "      <td>...</td>\n",
       "      <td>ignore</td>\n",
       "      <td>NaN</td>\n",
       "      <td>NaN</td>\n",
       "      <td>NaN</td>\n",
       "      <td>NaN</td>\n",
       "      <td>NaN</td>\n",
       "      <td>NaN</td>\n",
       "      <td>1. autonomy s cry revived in quebec the new yo...</td>\n",
       "      <td>protestors were only identified as young peopl...</td>\n",
       "      <td>ignore</td>\n",
       "    </tr>\n",
       "    <tr>\n",
       "      <th>2</th>\n",
       "      <td>201990003</td>\n",
       "      <td>Canada</td>\n",
       "      <td>20</td>\n",
       "      <td>1990</td>\n",
       "      <td>North America</td>\n",
       "      <td>1</td>\n",
       "      <td>3</td>\n",
       "      <td>1.0</td>\n",
       "      <td>7.0</td>\n",
       "      <td>1990.0</td>\n",
       "      <td>...</td>\n",
       "      <td>ignore</td>\n",
       "      <td>NaN</td>\n",
       "      <td>NaN</td>\n",
       "      <td>NaN</td>\n",
       "      <td>NaN</td>\n",
       "      <td>NaN</td>\n",
       "      <td>NaN</td>\n",
       "      <td>1. quebec protest after queen calls for unity ...</td>\n",
       "      <td>the queen, after calling on canadians to remai...</td>\n",
       "      <td>ignore</td>\n",
       "    </tr>\n",
       "    <tr>\n",
       "      <th>3</th>\n",
       "      <td>201990004</td>\n",
       "      <td>Canada</td>\n",
       "      <td>20</td>\n",
       "      <td>1990</td>\n",
       "      <td>North America</td>\n",
       "      <td>1</td>\n",
       "      <td>4</td>\n",
       "      <td>12.0</td>\n",
       "      <td>7.0</td>\n",
       "      <td>1990.0</td>\n",
       "      <td>...</td>\n",
       "      <td>accomodation</td>\n",
       "      <td>NaN</td>\n",
       "      <td>NaN</td>\n",
       "      <td>NaN</td>\n",
       "      <td>NaN</td>\n",
       "      <td>NaN</td>\n",
       "      <td>NaN</td>\n",
       "      <td>1. indians gather as siege intensifies; armed ...</td>\n",
       "      <td>canada s federal government has agreed to acqu...</td>\n",
       "      <td>accomodation</td>\n",
       "    </tr>\n",
       "    <tr>\n",
       "      <th>4</th>\n",
       "      <td>201990005</td>\n",
       "      <td>Canada</td>\n",
       "      <td>20</td>\n",
       "      <td>1990</td>\n",
       "      <td>North America</td>\n",
       "      <td>1</td>\n",
       "      <td>5</td>\n",
       "      <td>14.0</td>\n",
       "      <td>8.0</td>\n",
       "      <td>1990.0</td>\n",
       "      <td>...</td>\n",
       "      <td>crowd dispersal</td>\n",
       "      <td>arrests</td>\n",
       "      <td>accomodation</td>\n",
       "      <td>NaN</td>\n",
       "      <td>NaN</td>\n",
       "      <td>NaN</td>\n",
       "      <td>NaN</td>\n",
       "      <td>1. dozens hurt in mohawk blockade protest the ...</td>\n",
       "      <td>protests were directed against the state due t...</td>\n",
       "      <td>crowd dispersal,arrests,accomodation</td>\n",
       "    </tr>\n",
       "  </tbody>\n",
       "</table>\n",
       "<p>5 rows × 32 columns</p>\n",
       "</div>"
      ],
      "text/plain": [
       "          id country  ccode  year         region  protest  protestnumber  \\\n",
       "0  201990001  Canada     20  1990  North America        1              1   \n",
       "1  201990002  Canada     20  1990  North America        1              2   \n",
       "2  201990003  Canada     20  1990  North America        1              3   \n",
       "3  201990004  Canada     20  1990  North America        1              4   \n",
       "4  201990005  Canada     20  1990  North America        1              5   \n",
       "\n",
       "   startday  startmonth  startyear  ...   stateresponse1  stateresponse2  \\\n",
       "0      15.0         1.0     1990.0  ...           ignore             NaN   \n",
       "1      25.0         6.0     1990.0  ...           ignore             NaN   \n",
       "2       1.0         7.0     1990.0  ...           ignore             NaN   \n",
       "3      12.0         7.0     1990.0  ...     accomodation             NaN   \n",
       "4      14.0         8.0     1990.0  ...  crowd dispersal         arrests   \n",
       "\n",
       "   stateresponse3  stateresponse4 stateresponse5 stateresponse6  \\\n",
       "0             NaN             NaN            NaN            NaN   \n",
       "1             NaN             NaN            NaN            NaN   \n",
       "2             NaN             NaN            NaN            NaN   \n",
       "3             NaN             NaN            NaN            NaN   \n",
       "4    accomodation             NaN            NaN            NaN   \n",
       "\n",
       "  stateresponse7                                            sources  \\\n",
       "0            NaN  1. great canadian train journeys into history;...   \n",
       "1            NaN  1. autonomy s cry revived in quebec the new yo...   \n",
       "2            NaN  1. quebec protest after queen calls for unity ...   \n",
       "3            NaN  1. indians gather as siege intensifies; armed ...   \n",
       "4            NaN  1. dozens hurt in mohawk blockade protest the ...   \n",
       "\n",
       "                                               notes  \\\n",
       "0  canada s railway passenger system was finally ...   \n",
       "1  protestors were only identified as young peopl...   \n",
       "2  the queen, after calling on canadians to remai...   \n",
       "3  canada s federal government has agreed to acqu...   \n",
       "4  protests were directed against the state due t...   \n",
       "\n",
       "                          all_responses  \n",
       "0                                ignore  \n",
       "1                                ignore  \n",
       "2                                ignore  \n",
       "3                          accomodation  \n",
       "4  crowd dispersal,arrests,accomodation  \n",
       "\n",
       "[5 rows x 32 columns]"
      ]
     },
     "execution_count": 89,
     "metadata": {},
     "output_type": "execute_result"
    }
   ],
   "source": [
    "# combine all state responses to 1 column\n",
    "# protests_df.iloc[:, 22:29]\n",
    "protests_df['all_responses'] = protests_df[protests_df.columns[22:29]].apply(\n",
    "    lambda x: ','.join(x.dropna().astype(str).str.strip()),\n",
    "    axis=1\n",
    ")\n",
    "\n",
    "protests_df.head(5)"
   ]
  },
  {
   "cell_type": "code",
   "execution_count": 90,
   "id": "9ebf96b2-0f4b-4e7f-8409-276c61c62230",
   "metadata": {},
   "outputs": [
    {
     "data": {
      "text/plain": [
       "str"
      ]
     },
     "execution_count": 90,
     "metadata": {},
     "output_type": "execute_result"
    }
   ],
   "source": [
    "type(protests_df['all_responses'].iloc[0])  #.apply(lambda x: len(x))"
   ]
  },
  {
   "cell_type": "code",
   "execution_count": 91,
   "id": "dd747883-61e1-454f-a965-b0cc76cb36e7",
   "metadata": {},
   "outputs": [
    {
     "data": {
      "text/plain": [
       "ignore                          7989\n",
       "crowd dispersal                 2453\n",
       "accomodation                     885\n",
       "arrests                          633\n",
       "crowd dispersal,arrests          554\n",
       "arrests,crowd dispersal          262\n",
       "crowd dispersal,accomodation     169\n",
       "ignore,accomodation              141\n",
       "crowd dispersal,beatings         138\n",
       "beatings                         125\n",
       "Name: all_responses, dtype: int64"
      ]
     },
     "execution_count": 91,
     "metadata": {},
     "output_type": "execute_result"
    }
   ],
   "source": [
    "protests_df['all_responses'].value_counts()[:10]"
   ]
  },
  {
   "cell_type": "code",
   "execution_count": 92,
   "id": "b812e8ab-ddc6-474a-b17e-ceb0d7835414",
   "metadata": {},
   "outputs": [
    {
     "data": {
      "text/html": [
       "<div>\n",
       "<style scoped>\n",
       "    .dataframe tbody tr th:only-of-type {\n",
       "        vertical-align: middle;\n",
       "    }\n",
       "\n",
       "    .dataframe tbody tr th {\n",
       "        vertical-align: top;\n",
       "    }\n",
       "\n",
       "    .dataframe thead th {\n",
       "        text-align: right;\n",
       "    }\n",
       "</style>\n",
       "<table border=\"1\" class=\"dataframe\">\n",
       "  <thead>\n",
       "    <tr style=\"text-align: right;\">\n",
       "      <th></th>\n",
       "      <th>all_responses</th>\n",
       "    </tr>\n",
       "  </thead>\n",
       "  <tbody>\n",
       "    <tr>\n",
       "      <th>0</th>\n",
       "      <td>ignore</td>\n",
       "    </tr>\n",
       "    <tr>\n",
       "      <th>1</th>\n",
       "      <td>ignore</td>\n",
       "    </tr>\n",
       "    <tr>\n",
       "      <th>2</th>\n",
       "      <td>ignore</td>\n",
       "    </tr>\n",
       "    <tr>\n",
       "      <th>3</th>\n",
       "      <td>accomodation</td>\n",
       "    </tr>\n",
       "    <tr>\n",
       "      <th>4</th>\n",
       "      <td>crowd dispersal,arrests,accomodation</td>\n",
       "    </tr>\n",
       "    <tr>\n",
       "      <th>5</th>\n",
       "      <td>crowd dispersal,shootings</td>\n",
       "    </tr>\n",
       "    <tr>\n",
       "      <th>6</th>\n",
       "      <td>ignore</td>\n",
       "    </tr>\n",
       "    <tr>\n",
       "      <th>7</th>\n",
       "      <td>ignore</td>\n",
       "    </tr>\n",
       "  </tbody>\n",
       "</table>\n",
       "</div>"
      ],
      "text/plain": [
       "                          all_responses\n",
       "0                                ignore\n",
       "1                                ignore\n",
       "2                                ignore\n",
       "3                          accomodation\n",
       "4  crowd dispersal,arrests,accomodation\n",
       "5             crowd dispersal,shootings\n",
       "6                                ignore\n",
       "7                                ignore"
      ]
     },
     "execution_count": 92,
     "metadata": {},
     "output_type": "execute_result"
    }
   ],
   "source": [
    "protests_df[['all_responses']].head(8)"
   ]
  },
  {
   "cell_type": "code",
   "execution_count": null,
   "id": "0ddd9ebc-a35f-46ee-a9a8-e6b26425f243",
   "metadata": {},
   "outputs": [],
   "source": []
  },
  {
   "cell_type": "code",
   "execution_count": 93,
   "id": "f2ba3c10-2aa8-469b-85bc-ec6f2541cca5",
   "metadata": {},
   "outputs": [],
   "source": [
    "protests_df['responses_list'] = protests_df['all_responses'].apply(lambda x: x.split(','))\n"
   ]
  },
  {
   "cell_type": "code",
   "execution_count": 94,
   "id": "3d3af45b-f423-4d3e-aff9-da66b86e73cb",
   "metadata": {},
   "outputs": [
    {
     "data": {
      "text/plain": [
       "0        1\n",
       "10542    1\n",
       "10544    1\n",
       "10545    1\n",
       "10546    1\n",
       "        ..\n",
       "6905     7\n",
       "4114     7\n",
       "14305    7\n",
       "7643     7\n",
       "14085    7\n",
       "Name: responses_list, Length: 15208, dtype: int64"
      ]
     },
     "execution_count": 94,
     "metadata": {},
     "output_type": "execute_result"
    }
   ],
   "source": [
    "protests_df['responses_list'].apply(lambda x: len(x)).sort_values()"
   ]
  },
  {
   "cell_type": "code",
   "execution_count": null,
   "id": "a17770a5-0cca-4144-a995-6c95ae2ceb59",
   "metadata": {},
   "outputs": [],
   "source": []
  },
  {
   "cell_type": "markdown",
   "id": "b692c0ef-b84e-46db-a158-3d09ee9f56c5",
   "metadata": {},
   "source": [
    "### MultiLabelBinarizer"
   ]
  },
  {
   "cell_type": "code",
   "execution_count": null,
   "id": "7ca0614a-5bce-455f-ae2d-597f111e0c22",
   "metadata": {},
   "outputs": [],
   "source": []
  },
  {
   "cell_type": "code",
   "execution_count": 95,
   "id": "f6dc55b2-963a-43da-962f-abf00b875b79",
   "metadata": {},
   "outputs": [
    {
     "data": {
      "text/plain": [
       "array([[0, 0, 0, ..., 1, 0, 0],\n",
       "       [0, 0, 0, ..., 1, 0, 0],\n",
       "       [0, 0, 0, ..., 1, 0, 0],\n",
       "       ...,\n",
       "       [1, 0, 0, ..., 0, 0, 0],\n",
       "       [0, 0, 0, ..., 0, 0, 0],\n",
       "       [0, 0, 0, ..., 1, 0, 0]])"
      ]
     },
     "execution_count": 95,
     "metadata": {},
     "output_type": "execute_result"
    }
   ],
   "source": [
    "mlb = MultiLabelBinarizer()\n",
    "\n",
    "mlb.fit_transform(protests_df['responses_list'])"
   ]
  },
  {
   "cell_type": "code",
   "execution_count": 96,
   "id": "6e802b58-302a-4d36-902d-c60a336712e2",
   "metadata": {},
   "outputs": [
    {
     "data": {
      "text/plain": [
       "array(['accomodation', 'arrests', 'beatings', 'crowd dispersal', 'ignore',\n",
       "       'killings', 'shootings'], dtype=object)"
      ]
     },
     "execution_count": 96,
     "metadata": {},
     "output_type": "execute_result"
    }
   ],
   "source": [
    "mlb.classes_   # find a way to dispose the empty class"
   ]
  },
  {
   "cell_type": "markdown",
   "id": "4d33c7ff-7370-48f4-abab-6a4f10fad45d",
   "metadata": {
    "tags": []
   },
   "source": [
    "### Set X, y"
   ]
  },
  {
   "cell_type": "code",
   "execution_count": 100,
   "id": "4e864f0e-9e21-4384-94e4-20da9ace4ce5",
   "metadata": {},
   "outputs": [],
   "source": [
    "X = protests_df[['region', 'country', 'year', 'protesterviolence']]\n",
    "y = protests_df['all_responses']"
   ]
  },
  {
   "cell_type": "code",
   "execution_count": 101,
   "id": "6c7bfabc-79fa-4e88-a133-feefce49d94c",
   "metadata": {},
   "outputs": [
    {
     "data": {
      "text/plain": [
       "(15208, 4)"
      ]
     },
     "execution_count": 101,
     "metadata": {},
     "output_type": "execute_result"
    }
   ],
   "source": [
    "X.shape"
   ]
  },
  {
   "cell_type": "code",
   "execution_count": 102,
   "id": "d32f9b3f-42d5-4d2c-8bd6-4f425fed7e2f",
   "metadata": {},
   "outputs": [
    {
     "data": {
      "text/plain": [
       "(15208,)"
      ]
     },
     "execution_count": 102,
     "metadata": {},
     "output_type": "execute_result"
    }
   ],
   "source": [
    "y.shape"
   ]
  },
  {
   "cell_type": "markdown",
   "id": "4bb47f0d-b9c0-4077-8120-c67f5a06b4c3",
   "metadata": {},
   "source": [
    "#### One Hot Encoding & Scaling"
   ]
  },
  {
   "cell_type": "code",
   "execution_count": 103,
   "id": "3b0c6031-c457-4374-b7fb-138e800bd8cd",
   "metadata": {},
   "outputs": [],
   "source": [
    "ct = ColumnTransformer(\n",
    "    [('ohe', OneHotEncoder(drop='first', handle_unknown='ignore', sparse=False), ['region', 'country'])],\n",
    "    remainder='passthrough',\n",
    "    verbose_feature_names_out = False\n",
    ")\n"
   ]
  },
  {
   "cell_type": "code",
   "execution_count": 108,
   "id": "9ff9f7aa-83e5-4397-9abc-adf967baf6b8",
   "metadata": {},
   "outputs": [],
   "source": [
    "X_train, X_test, y_train, y_test = train_test_split(X, y, random_state=34)"
   ]
  },
  {
   "cell_type": "code",
   "execution_count": 109,
   "id": "55f5ceb3-0044-4920-8657-ebdd3663e1f2",
   "metadata": {},
   "outputs": [
    {
     "name": "stderr",
     "output_type": "stream",
     "text": [
      "C:\\Users\\Marva\\anaconda3\\lib\\site-packages\\sklearn\\preprocessing\\_encoders.py:170: UserWarning: Found unknown categories in columns [1] during transform. These unknown categories will be encoded as all zeros\n",
      "  warnings.warn(\n"
     ]
    }
   ],
   "source": [
    "train_enc = ct.fit_transform(X_train)\n",
    "train_enc = pd.DataFrame(train_enc, columns = ct.get_feature_names_out())\n",
    "\n",
    "test_enc = ct.transform(X_test)\n",
    "test_enc = pd.DataFrame(test_enc, columns = ct.get_feature_names_out())"
   ]
  },
  {
   "cell_type": "code",
   "execution_count": 110,
   "id": "38e2adc2-a34b-4d6d-a89c-e8e94a0ca567",
   "metadata": {},
   "outputs": [],
   "source": [
    "# Scale data\n",
    "ss = StandardScaler()\n",
    "X_train_sc = ss.fit_transform(train_enc)\n",
    "X_test_sc = ss.transform(test_enc)"
   ]
  },
  {
   "cell_type": "markdown",
   "id": "da00cd8d-7a16-4fb1-b0ff-cb1369cb2401",
   "metadata": {},
   "source": [
    "### Logistic Regression Model"
   ]
  },
  {
   "cell_type": "code",
   "execution_count": 111,
   "id": "08465acd-5d5f-4b01-a250-fbb9e4951445",
   "metadata": {},
   "outputs": [],
   "source": [
    "logreg = LogisticRegression()"
   ]
  },
  {
   "cell_type": "code",
   "execution_count": 112,
   "id": "35f7228a-bae2-4427-bfd2-e5129e8360ad",
   "metadata": {},
   "outputs": [
    {
     "name": "stderr",
     "output_type": "stream",
     "text": [
      "C:\\Users\\Marva\\anaconda3\\lib\\site-packages\\sklearn\\linear_model\\_logistic.py:814: ConvergenceWarning: lbfgs failed to converge (status=1):\n",
      "STOP: TOTAL NO. of ITERATIONS REACHED LIMIT.\n",
      "\n",
      "Increase the number of iterations (max_iter) or scale the data as shown in:\n",
      "    https://scikit-learn.org/stable/modules/preprocessing.html\n",
      "Please also refer to the documentation for alternative solver options:\n",
      "    https://scikit-learn.org/stable/modules/linear_model.html#logistic-regression\n",
      "  n_iter_i = _check_optimize_result(\n"
     ]
    },
    {
     "data": {
      "text/plain": [
       "LogisticRegression()"
      ]
     },
     "execution_count": 112,
     "metadata": {},
     "output_type": "execute_result"
    }
   ],
   "source": [
    "logreg.fit(X_train_sc, y_train)"
   ]
  },
  {
   "cell_type": "code",
   "execution_count": 113,
   "id": "5bb95775-f178-462b-bfc7-ea43dcbedf00",
   "metadata": {},
   "outputs": [
    {
     "data": {
      "text/plain": [
       "0.5739084692267228"
      ]
     },
     "execution_count": 113,
     "metadata": {},
     "output_type": "execute_result"
    }
   ],
   "source": [
    "logreg.score(X_test_sc, y_test)"
   ]
  },
  {
   "cell_type": "code",
   "execution_count": 344,
   "id": "e2fe9b3e-e526-4948-a9cd-a9c162b93c3f",
   "metadata": {},
   "outputs": [],
   "source": [
    "#baseline model\n",
    "#confusion matrix -- shold be interesting to see the correlation between the different responses"
   ]
  },
  {
   "cell_type": "code",
   "execution_count": 131,
   "id": "a105f493-3da5-4fab-acc6-07f953911f7f",
   "metadata": {},
   "outputs": [
    {
     "data": {
      "text/html": [
       "<div>\n",
       "<style scoped>\n",
       "    .dataframe tbody tr th:only-of-type {\n",
       "        vertical-align: middle;\n",
       "    }\n",
       "\n",
       "    .dataframe tbody tr th {\n",
       "        vertical-align: top;\n",
       "    }\n",
       "\n",
       "    .dataframe thead th {\n",
       "        text-align: right;\n",
       "    }\n",
       "</style>\n",
       "<table border=\"1\" class=\"dataframe\">\n",
       "  <thead>\n",
       "    <tr style=\"text-align: right;\">\n",
       "      <th></th>\n",
       "      <th>0</th>\n",
       "    </tr>\n",
       "  </thead>\n",
       "  <tbody>\n",
       "    <tr>\n",
       "      <th>0</th>\n",
       "      <td>ignore</td>\n",
       "    </tr>\n",
       "    <tr>\n",
       "      <th>1</th>\n",
       "      <td>ignore</td>\n",
       "    </tr>\n",
       "    <tr>\n",
       "      <th>2</th>\n",
       "      <td>ignore</td>\n",
       "    </tr>\n",
       "    <tr>\n",
       "      <th>3</th>\n",
       "      <td>ignore</td>\n",
       "    </tr>\n",
       "    <tr>\n",
       "      <th>4</th>\n",
       "      <td>ignore,crowd dispersal,arrests</td>\n",
       "    </tr>\n",
       "    <tr>\n",
       "      <th>5</th>\n",
       "      <td>ignore</td>\n",
       "    </tr>\n",
       "    <tr>\n",
       "      <th>6</th>\n",
       "      <td>ignore</td>\n",
       "    </tr>\n",
       "    <tr>\n",
       "      <th>7</th>\n",
       "      <td>ignore</td>\n",
       "    </tr>\n",
       "    <tr>\n",
       "      <th>8</th>\n",
       "      <td>ignore</td>\n",
       "    </tr>\n",
       "    <tr>\n",
       "      <th>9</th>\n",
       "      <td>ignore</td>\n",
       "    </tr>\n",
       "    <tr>\n",
       "      <th>10</th>\n",
       "      <td>ignore</td>\n",
       "    </tr>\n",
       "    <tr>\n",
       "      <th>11</th>\n",
       "      <td>ignore</td>\n",
       "    </tr>\n",
       "    <tr>\n",
       "      <th>12</th>\n",
       "      <td>crowd dispersal</td>\n",
       "    </tr>\n",
       "    <tr>\n",
       "      <th>13</th>\n",
       "      <td>crowd dispersal</td>\n",
       "    </tr>\n",
       "    <tr>\n",
       "      <th>14</th>\n",
       "      <td>ignore</td>\n",
       "    </tr>\n",
       "    <tr>\n",
       "      <th>15</th>\n",
       "      <td>ignore</td>\n",
       "    </tr>\n",
       "    <tr>\n",
       "      <th>16</th>\n",
       "      <td>ignore</td>\n",
       "    </tr>\n",
       "    <tr>\n",
       "      <th>17</th>\n",
       "      <td>crowd dispersal</td>\n",
       "    </tr>\n",
       "    <tr>\n",
       "      <th>18</th>\n",
       "      <td>crowd dispersal</td>\n",
       "    </tr>\n",
       "    <tr>\n",
       "      <th>19</th>\n",
       "      <td>ignore</td>\n",
       "    </tr>\n",
       "  </tbody>\n",
       "</table>\n",
       "</div>"
      ],
      "text/plain": [
       "                                 0\n",
       "0                           ignore\n",
       "1                           ignore\n",
       "2                           ignore\n",
       "3                           ignore\n",
       "4   ignore,crowd dispersal,arrests\n",
       "5                           ignore\n",
       "6                           ignore\n",
       "7                           ignore\n",
       "8                           ignore\n",
       "9                           ignore\n",
       "10                          ignore\n",
       "11                          ignore\n",
       "12                 crowd dispersal\n",
       "13                 crowd dispersal\n",
       "14                          ignore\n",
       "15                          ignore\n",
       "16                          ignore\n",
       "17                 crowd dispersal\n",
       "18                 crowd dispersal\n",
       "19                          ignore"
      ]
     },
     "execution_count": 131,
     "metadata": {},
     "output_type": "execute_result"
    }
   ],
   "source": [
    "predicted_values = pd.DataFrame(logreg.predict(X_test_sc))\n",
    "predicted_values[:20]"
   ]
  },
  {
   "cell_type": "code",
   "execution_count": null,
   "id": "5d651b04-18a7-415e-9e4b-05a738ee35c4",
   "metadata": {},
   "outputs": [],
   "source": []
  }
 ],
 "metadata": {
  "kernelspec": {
   "display_name": "Python 3 (ipykernel)",
   "language": "python",
   "name": "python3"
  },
  "language_info": {
   "codemirror_mode": {
    "name": "ipython",
    "version": 3
   },
   "file_extension": ".py",
   "mimetype": "text/x-python",
   "name": "python",
   "nbconvert_exporter": "python",
   "pygments_lexer": "ipython3",
   "version": "3.9.7"
  }
 },
 "nbformat": 4,
 "nbformat_minor": 5
}
